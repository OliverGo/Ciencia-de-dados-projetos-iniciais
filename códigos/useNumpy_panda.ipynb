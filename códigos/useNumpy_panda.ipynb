{
 "cells": [
  {
   "cell_type": "code",
   "execution_count": 10,
   "metadata": {},
   "outputs": [
    {
     "name": "stdout",
     "output_type": "stream",
     "text": [
      "      Nome  Idade          Cidade  Vendas\n",
      "0      Ana   28.0       São Paulo   150.0\n",
      "1    Bruno   34.0  Rio de Janeiro   200.0\n",
      "2   Carlos   29.0            None   300.0\n",
      "3  Daniela    NaN        Curitiba   400.0\n",
      "4  Eduardo   42.0  Belo Horizonte     NaN\n",
      "..............................................................\n",
      "      Nome  Idade          Cidade  Vendas\n",
      "0      Ana   28.0       São Paulo   150.0\n",
      "1    Bruno   34.0  Rio de Janeiro   200.0\n",
      "2   Carlos   29.0    Desconhecido   300.0\n",
      "3  Daniela    NaN        Curitiba   400.0\n",
      "4  Eduardo   42.0  Belo Horizonte     NaN\n",
      "..............................................................\n",
      "1050.0\n"
     ]
    }
   ],
   "source": [
    "import pandas as pd \n",
    "import numpy as pn\n",
    "\n",
    "dados = {\n",
    "    'Nome': ['Ana', 'Bruno', 'Carlos', 'Daniela', 'Eduardo'],\n",
    "    'Idade': [28, 34, 29, None, 42],\n",
    "    'Cidade': ['São Paulo', 'Rio de Janeiro', None, 'Curitiba', 'Belo Horizonte'],\n",
    "    'Vendas': [150, 200, 300, 400, None]\n",
    "}\n",
    "\n",
    "dados = pd.DataFrame(dados)\n",
    "print(dados)\n",
    "\n",
    "dados[dados['Idade'] > 30 ]\n",
    "\n",
    "dados['Idade'].mean()\n",
    "print(\"..............................................................\")\n",
    "dados['Cidade'] = dados['Cidade'].fillna('Desconhecido')\n",
    "print(dados)\n",
    "\n",
    "print(\"..............................................................\")\n",
    "print(dados['Vendas'].sum())"
   ]
  }
 ],
 "metadata": {
  "kernelspec": {
   "display_name": "Python 3",
   "language": "python",
   "name": "python3"
  },
  "language_info": {
   "codemirror_mode": {
    "name": "ipython",
    "version": 3
   },
   "file_extension": ".py",
   "mimetype": "text/x-python",
   "name": "python",
   "nbconvert_exporter": "python",
   "pygments_lexer": "ipython3",
   "version": "3.12.3"
  }
 },
 "nbformat": 4,
 "nbformat_minor": 2
}
